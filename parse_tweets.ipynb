{
 "cells": [
  {
   "cell_type": "code",
   "execution_count": 56,
   "metadata": {},
   "outputs": [],
   "source": [
    "import psycopg2\n",
    "import pandas as pd\n",
    "import json"
   ]
  },
  {
   "cell_type": "code",
   "execution_count": 57,
   "metadata": {},
   "outputs": [],
   "source": [
    "# AWS\n",
    "conn = psycopg2.connect(dbname='tweetsql',port=5432,password=\"tweetsql\",\n",
    "                        user='tweetsql',host='tweetsql.cggizg1efi9f.us-east-1.rds.amazonaws.com')"
   ]
  },
  {
   "cell_type": "code",
   "execution_count": 58,
   "metadata": {},
   "outputs": [],
   "source": [
    "cur = conn.cursor()"
   ]
  },
  {
   "cell_type": "code",
   "execution_count": 59,
   "metadata": {},
   "outputs": [
    {
     "name": "stdout",
     "output_type": "stream",
     "text": [
      "[('tweet',)]\n"
     ]
    }
   ],
   "source": [
    "# List all tables\n",
    "cur.execute(\"select relname from pg_class where relkind='r' and relname !~ '^(pg_|sql_)';\")\n",
    "print(cur.fetchall())"
   ]
  },
  {
   "cell_type": "code",
   "execution_count": 60,
   "metadata": {},
   "outputs": [],
   "source": [
    "query = '''SELECT *\n",
    "           FROM tweet \n",
    "           LIMIT 400;'''\n",
    "\n",
    "cur.execute(query)"
   ]
  },
  {
   "cell_type": "code",
   "execution_count": 61,
   "metadata": {},
   "outputs": [],
   "source": [
    "df = pd.read_sql_query(query, conn)\n"
   ]
  },
  {
   "cell_type": "code",
   "execution_count": 8,
   "metadata": {},
   "outputs": [
    {
     "data": {
      "text/plain": [
       "(11, 2)"
      ]
     },
     "execution_count": 8,
     "metadata": {},
     "output_type": "execute_result"
    }
   ],
   "source": [
    "df.shape"
   ]
  },
  {
   "cell_type": "code",
   "execution_count": 18,
   "metadata": {},
   "outputs": [
    {
     "data": {
      "text/plain": [
       "dict_keys(['favorited', 'quote_count', 'contributors', 'truncated', 'text', 'is_quote_status', 'in_reply_to_status_id', 'reply_count', 'user', 'filter_level', 'geo', 'id', 'favorite_count', 'lang', 'retweeted_status', 'source', 'in_reply_to_user_id_str', 'retweeted', 'coordinates', 'timestamp_ms', 'entities', 'in_reply_to_status_id_str', 'in_reply_to_screen_name', 'id_str', 'place', 'retweet_count', 'created_at', 'in_reply_to_user_id'])"
      ]
     },
     "execution_count": 18,
     "metadata": {},
     "output_type": "execute_result"
    }
   ],
   "source": [
    "json.loads(df['data'][0]).keys()"
   ]
  },
  {
   "cell_type": "code",
   "execution_count": 21,
   "metadata": {},
   "outputs": [
    {
     "data": {
      "text/plain": [
       "0     {'favorited': False, 'quote_count': 0, 'contri...\n",
       "1     {'favorited': False, 'quote_count': 0, 'contri...\n",
       "2     {'favorited': False, 'quote_count': 0, 'contri...\n",
       "3     {'favorited': False, 'quote_count': 0, 'contri...\n",
       "4     {'favorited': False, 'quote_count': 0, 'contri...\n",
       "5     {'favorited': False, 'quote_count': 0, 'contri...\n",
       "6     {'quote_count': 0, 'contributors': None, 'trun...\n",
       "7     {'favorited': False, 'quote_count': 0, 'contri...\n",
       "8     {'favorited': False, 'quote_count': 0, 'contri...\n",
       "9     {'favorited': False, 'quote_count': 0, 'contri...\n",
       "10    {'quote_count': 0, 'contributors': None, 'trun...\n",
       "Name: data, dtype: object"
      ]
     },
     "execution_count": 21,
     "metadata": {},
     "output_type": "execute_result"
    }
   ],
   "source": [
    "df['data'].apply(json.loads)"
   ]
  },
  {
   "cell_type": "code",
   "execution_count": 23,
   "metadata": {},
   "outputs": [
    {
     "name": "stdout",
     "output_type": "stream",
     "text": [
      "<class 'pandas.core.frame.DataFrame'>\n",
      "RangeIndex: 11 entries, 0 to 10\n",
      "Data columns (total 2 columns):\n",
      "id      11 non-null int64\n",
      "data    11 non-null object\n",
      "dtypes: int64(1), object(1)\n",
      "memory usage: 256.0+ bytes\n"
     ]
    }
   ],
   "source": [
    "df.info()"
   ]
  },
  {
   "cell_type": "code",
   "execution_count": 47,
   "metadata": {},
   "outputs": [],
   "source": [
    "import simplejson"
   ]
  },
  {
   "cell_type": "code",
   "execution_count": 48,
   "metadata": {},
   "outputs": [
    {
     "data": {
      "text/plain": [
       "{'contributors': None,\n",
       " 'coordinates': None,\n",
       " 'created_at': 'Tue Nov 21 15:04:27 +0000 2017',\n",
       " 'entities': {'hashtags': [],\n",
       "  'symbols': [],\n",
       "  'urls': [],\n",
       "  'user_mentions': [{'id': 2775476819,\n",
       "    'id_str': '2775476819',\n",
       "    'indices': [3, 10],\n",
       "    'name': 'School of Education',\n",
       "    'screen_name': 'DUSofE'}]},\n",
       " 'favorite_count': 0,\n",
       " 'favorited': False,\n",
       " 'filter_level': 'low',\n",
       " 'geo': None,\n",
       " 'id': 932988083351506944,\n",
       " 'id_str': '932988083351506944',\n",
       " 'in_reply_to_screen_name': None,\n",
       " 'in_reply_to_status_id': None,\n",
       " 'in_reply_to_status_id_str': None,\n",
       " 'in_reply_to_user_id': None,\n",
       " 'in_reply_to_user_id_str': None,\n",
       " 'is_quote_status': False,\n",
       " 'lang': 'en',\n",
       " 'place': None,\n",
       " 'quote_count': 0,\n",
       " 'reply_count': 0,\n",
       " 'retweet_count': 0,\n",
       " 'retweeted': False,\n",
       " 'retweeted_status': {'contributors': None,\n",
       "  'coordinates': None,\n",
       "  'created_at': 'Tue Nov 21 15:01:05 +0000 2017',\n",
       "  'entities': {'hashtags': [],\n",
       "   'symbols': [],\n",
       "   'urls': [{'display_url': 'fb.me/80qsOhmXw',\n",
       "     'expanded_url': 'http://fb.me/80qsOhmXw',\n",
       "     'indices': [111, 134],\n",
       "     'url': 'https://t.co/SuaeCt5YPR'}],\n",
       "   'user_mentions': []},\n",
       "  'favorite_count': 0,\n",
       "  'favorited': False,\n",
       "  'filter_level': 'low',\n",
       "  'geo': None,\n",
       "  'id': 932987235858776066,\n",
       "  'id_str': '932987235858776066',\n",
       "  'in_reply_to_screen_name': None,\n",
       "  'in_reply_to_status_id': None,\n",
       "  'in_reply_to_status_id_str': None,\n",
       "  'in_reply_to_user_id': None,\n",
       "  'in_reply_to_user_id_str': None,\n",
       "  'is_quote_status': False,\n",
       "  'lang': 'en',\n",
       "  'place': None,\n",
       "  'possibly_sensitive': False,\n",
       "  'quote_count': 0,\n",
       "  'reply_count': 0,\n",
       "  'retweet_count': 1,\n",
       "  'retweeted': False,\n",
       "  'source': '<a href=\"http://www.facebook.com/twitter\" rel=\"nofollow\">Facebook</a>',\n",
       "  'text': 'Congratulations to our Teaching Fellow Judith Reynolds for winning the Richard Pemberton Prize for the best... https://t.co/SuaeCt5YPR',\n",
       "  'truncated': False,\n",
       "  'user': {'contributors_enabled': False,\n",
       "   'created_at': 'Fri Sep 19 10:42:30 +0000 2014',\n",
       "   'default_profile': False,\n",
       "   'default_profile_image': False,\n",
       "   'description': 'Durham University - School of Education',\n",
       "   'favourites_count': 140,\n",
       "   'follow_request_sent': None,\n",
       "   'followers_count': 1266,\n",
       "   'following': None,\n",
       "   'friends_count': 777,\n",
       "   'geo_enabled': True,\n",
       "   'id': 2775476819,\n",
       "   'id_str': '2775476819',\n",
       "   'is_translator': False,\n",
       "   'lang': 'en-gb',\n",
       "   'listed_count': 24,\n",
       "   'location': 'Durham ',\n",
       "   'name': 'School of Education',\n",
       "   'notifications': None,\n",
       "   'profile_background_color': '000000',\n",
       "   'profile_background_image_url': 'http://abs.twimg.com/images/themes/theme1/bg.png',\n",
       "   'profile_background_image_url_https': 'https://abs.twimg.com/images/themes/theme1/bg.png',\n",
       "   'profile_background_tile': False,\n",
       "   'profile_banner_url': 'https://pbs.twimg.com/profile_banners/2775476819/1493287531',\n",
       "   'profile_image_url': 'http://pbs.twimg.com/profile_images/671989439980285952/lWpS7iux_normal.jpg',\n",
       "   'profile_image_url_https': 'https://pbs.twimg.com/profile_images/671989439980285952/lWpS7iux_normal.jpg',\n",
       "   'profile_link_color': '9266CC',\n",
       "   'profile_sidebar_border_color': '000000',\n",
       "   'profile_sidebar_fill_color': '000000',\n",
       "   'profile_text_color': '000000',\n",
       "   'profile_use_background_image': False,\n",
       "   'protected': False,\n",
       "   'screen_name': 'DUSofE',\n",
       "   'statuses_count': 2595,\n",
       "   'time_zone': 'Pacific Time (US & Canada)',\n",
       "   'translator_type': 'none',\n",
       "   'url': 'http://www.durham.ac.uk/education',\n",
       "   'utc_offset': -28800,\n",
       "   'verified': False}},\n",
       " 'source': '<a href=\"http://twitter.com/download/iphone\" rel=\"nofollow\">Twitter for iPhone</a>',\n",
       " 'text': 'RT @DUSofE: Congratulations to our Teaching Fellow Judith Reynolds for winning the Richard Pemberton Prize for the best... https://t.co/Sua…',\n",
       " 'timestamp_ms': '1511276667808',\n",
       " 'truncated': False,\n",
       " 'user': {'contributors_enabled': False,\n",
       "  'created_at': 'Wed Nov 15 19:36:49 +0000 2017',\n",
       "  'default_profile': True,\n",
       "  'default_profile_image': False,\n",
       "  'description': 'PG researcher, Educator, lover of History and Sunderland AFC',\n",
       "  'favourites_count': 7,\n",
       "  'follow_request_sent': None,\n",
       "  'followers_count': 18,\n",
       "  'following': None,\n",
       "  'friends_count': 158,\n",
       "  'geo_enabled': False,\n",
       "  'id': 930882297192177664,\n",
       "  'id_str': '930882297192177664',\n",
       "  'is_translator': False,\n",
       "  'lang': 'en',\n",
       "  'listed_count': 0,\n",
       "  'location': 'North East, England',\n",
       "  'name': 'Lucy M Davies',\n",
       "  'notifications': None,\n",
       "  'profile_background_color': 'F5F8FA',\n",
       "  'profile_background_image_url': '',\n",
       "  'profile_background_image_url_https': '',\n",
       "  'profile_background_tile': False,\n",
       "  'profile_banner_url': 'https://pbs.twimg.com/profile_banners/930882297192177664/1510775348',\n",
       "  'profile_image_url': 'http://pbs.twimg.com/profile_images/930884985845960704/4UuMeLD9_normal.jpg',\n",
       "  'profile_image_url_https': 'https://pbs.twimg.com/profile_images/930884985845960704/4UuMeLD9_normal.jpg',\n",
       "  'profile_link_color': '1DA1F2',\n",
       "  'profile_sidebar_border_color': 'C0DEED',\n",
       "  'profile_sidebar_fill_color': 'DDEEF6',\n",
       "  'profile_text_color': '333333',\n",
       "  'profile_use_background_image': True,\n",
       "  'protected': False,\n",
       "  'screen_name': 'LucyMDavies1',\n",
       "  'statuses_count': 5,\n",
       "  'time_zone': None,\n",
       "  'translator_type': 'none',\n",
       "  'url': None,\n",
       "  'utc_offset': None,\n",
       "  'verified': False}}"
      ]
     },
     "execution_count": 48,
     "metadata": {},
     "output_type": "execute_result"
    }
   ],
   "source": [
    "simplejson.loads(df['data'][0])"
   ]
  },
  {
   "cell_type": "code",
   "execution_count": 50,
   "metadata": {},
   "outputs": [
    {
     "data": {
      "text/plain": [
       "0     {'favorited': False, 'quote_count': 0, 'contri...\n",
       "1     {'favorited': False, 'quote_count': 0, 'contri...\n",
       "2     {'favorited': False, 'quote_count': 0, 'contri...\n",
       "3     {'favorited': False, 'quote_count': 0, 'contri...\n",
       "4     {'favorited': False, 'quote_count': 0, 'contri...\n",
       "5     {'favorited': False, 'quote_count': 0, 'contri...\n",
       "6     {'quote_count': 0, 'contributors': None, 'trun...\n",
       "7     {'favorited': False, 'quote_count': 0, 'contri...\n",
       "8     {'favorited': False, 'quote_count': 0, 'contri...\n",
       "9     {'favorited': False, 'quote_count': 0, 'contri...\n",
       "10    {'quote_count': 0, 'contributors': None, 'trun...\n",
       "Name: data, dtype: object"
      ]
     },
     "execution_count": 50,
     "metadata": {},
     "output_type": "execute_result"
    }
   ],
   "source": [
    "df.data.apply(simplejson.loads)"
   ]
  },
  {
   "cell_type": "code",
   "execution_count": 55,
   "metadata": {},
   "outputs": [
    {
     "data": {
      "text/plain": [
       "dict_keys(['favorited', 'quote_count', 'contributors', 'truncated', 'text', 'is_quote_status', 'in_reply_to_status_id', 'reply_count', 'user', 'filter_level', 'geo', 'id', 'favorite_count', 'lang', 'retweeted_status', 'source', 'in_reply_to_user_id_str', 'retweeted', 'coordinates', 'timestamp_ms', 'entities', 'in_reply_to_status_id_str', 'in_reply_to_screen_name', 'id_str', 'place', 'retweet_count', 'created_at', 'in_reply_to_user_id'])"
      ]
     },
     "execution_count": 55,
     "metadata": {},
     "output_type": "execute_result"
    }
   ],
   "source": [
    "json.loads(df.data[0]).keys()"
   ]
  },
  {
   "cell_type": "code",
   "execution_count": null,
   "metadata": {},
   "outputs": [],
   "source": []
  }
 ],
 "metadata": {
  "kernelspec": {
   "display_name": "Python 3",
   "language": "python",
   "name": "python3"
  },
  "language_info": {
   "codemirror_mode": {
    "name": "ipython",
    "version": 3
   },
   "file_extension": ".py",
   "mimetype": "text/x-python",
   "name": "python",
   "nbconvert_exporter": "python",
   "pygments_lexer": "ipython3",
   "version": "3.6.1"
  }
 },
 "nbformat": 4,
 "nbformat_minor": 2
}
