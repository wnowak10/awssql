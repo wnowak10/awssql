{
 "cells": [
  {
   "cell_type": "code",
   "execution_count": 11,
   "metadata": {},
   "outputs": [],
   "source": [
    "import psycopg2\n",
    "import pandas as pd\n",
    "import json"
   ]
  },
  {
   "cell_type": "code",
   "execution_count": 2,
   "metadata": {},
   "outputs": [],
   "source": [
    "# AWS\n",
    "conn = psycopg2.connect(dbname='tweetsql',port=5432,password=\"tweetsql\",\n",
    "                        user='tweetsql',host='tweetsql.cggizg1efi9f.us-east-1.rds.amazonaws.com')"
   ]
  },
  {
   "cell_type": "code",
   "execution_count": 3,
   "metadata": {},
   "outputs": [],
   "source": [
    "cur = conn.cursor()"
   ]
  },
  {
   "cell_type": "code",
   "execution_count": 4,
   "metadata": {},
   "outputs": [
    {
     "name": "stdout",
     "output_type": "stream",
     "text": [
      "[('tweet',)]\n"
     ]
    }
   ],
   "source": [
    "# List all tables\n",
    "cur.execute(\"select relname from pg_class where relkind='r' and relname !~ '^(pg_|sql_)';\")\n",
    "print(cur.fetchall())"
   ]
  },
  {
   "cell_type": "code",
   "execution_count": 5,
   "metadata": {},
   "outputs": [],
   "source": [
    "query = '''SELECT *\n",
    "           FROM tweet \n",
    "           LIMIT 400;'''\n",
    "\n",
    "cur.execute(query)"
   ]
  },
  {
   "cell_type": "code",
   "execution_count": 7,
   "metadata": {},
   "outputs": [],
   "source": [
    "df = pd.read_sql_query(query, conn)\n"
   ]
  },
  {
   "cell_type": "code",
   "execution_count": 8,
   "metadata": {},
   "outputs": [
    {
     "data": {
      "text/plain": [
       "(11, 2)"
      ]
     },
     "execution_count": 8,
     "metadata": {},
     "output_type": "execute_result"
    }
   ],
   "source": [
    "df.shape"
   ]
  },
  {
   "cell_type": "code",
   "execution_count": 18,
   "metadata": {},
   "outputs": [
    {
     "data": {
      "text/plain": [
       "dict_keys(['favorited', 'quote_count', 'contributors', 'truncated', 'text', 'is_quote_status', 'in_reply_to_status_id', 'reply_count', 'user', 'filter_level', 'geo', 'id', 'favorite_count', 'lang', 'retweeted_status', 'source', 'in_reply_to_user_id_str', 'retweeted', 'coordinates', 'timestamp_ms', 'entities', 'in_reply_to_status_id_str', 'in_reply_to_screen_name', 'id_str', 'place', 'retweet_count', 'created_at', 'in_reply_to_user_id'])"
      ]
     },
     "execution_count": 18,
     "metadata": {},
     "output_type": "execute_result"
    }
   ],
   "source": [
    "json.loads(df['data'][0]).keys()"
   ]
  },
  {
   "cell_type": "code",
   "execution_count": 21,
   "metadata": {},
   "outputs": [
    {
     "data": {
      "text/plain": [
       "0     {'favorited': False, 'quote_count': 0, 'contri...\n",
       "1     {'favorited': False, 'quote_count': 0, 'contri...\n",
       "2     {'favorited': False, 'quote_count': 0, 'contri...\n",
       "3     {'favorited': False, 'quote_count': 0, 'contri...\n",
       "4     {'favorited': False, 'quote_count': 0, 'contri...\n",
       "5     {'favorited': False, 'quote_count': 0, 'contri...\n",
       "6     {'quote_count': 0, 'contributors': None, 'trun...\n",
       "7     {'favorited': False, 'quote_count': 0, 'contri...\n",
       "8     {'favorited': False, 'quote_count': 0, 'contri...\n",
       "9     {'favorited': False, 'quote_count': 0, 'contri...\n",
       "10    {'quote_count': 0, 'contributors': None, 'trun...\n",
       "Name: data, dtype: object"
      ]
     },
     "execution_count": 21,
     "metadata": {},
     "output_type": "execute_result"
    }
   ],
   "source": [
    "df['data'].apply(json.loads)"
   ]
  },
  {
   "cell_type": "code",
   "execution_count": 23,
   "metadata": {},
   "outputs": [
    {
     "name": "stdout",
     "output_type": "stream",
     "text": [
      "<class 'pandas.core.frame.DataFrame'>\n",
      "RangeIndex: 11 entries, 0 to 10\n",
      "Data columns (total 2 columns):\n",
      "id      11 non-null int64\n",
      "data    11 non-null object\n",
      "dtypes: int64(1), object(1)\n",
      "memory usage: 256.0+ bytes\n"
     ]
    }
   ],
   "source": [
    "df.info()"
   ]
  },
  {
   "cell_type": "code",
   "execution_count": 24,
   "metadata": {},
   "outputs": [
    {
     "data": {
      "text/plain": [
       "'{\"favorited\": false, \"quote_count\": 0, \"contributors\": null, \"truncated\": false, \"text\": \"RT @DUSofE: Congratulations to our Teaching Fellow Judith Reynolds for winning the Richard Pemberton Prize for the best... https://t.co/Sua\\\\u2026\", \"is_quote_status\": false, \"in_reply_to_status_id\": null, \"reply_count\": 0, \"user\": {\"follow_request_sent\": null, \"profile_use_background_image\": true, \"default_profile_image\": false, \"id\": 930882297192177664, \"default_profile\": true, \"verified\": false, \"profile_image_url_https\": \"https://pbs.twimg.com/profile_images/930884985845960704/4UuMeLD9_normal.jpg\", \"profile_sidebar_fill_color\": \"DDEEF6\", \"profile_text_color\": \"333333\", \"followers_count\": 18, \"profile_sidebar_border_color\": \"C0DEED\", \"id_str\": \"930882297192177664\", \"profile_background_color\": \"F5F8FA\", \"listed_count\": 0, \"profile_background_image_url_https\": \"\", \"utc_offset\": null, \"statuses_count\": 5, \"description\": \"PG researcher, Educator, lover of History and Sunderland AFC\", \"friends_count\": 158, \"location\": \"North East, England\", \"profile_link_color\": \"1DA1F2\", \"profile_image_url\": \"http://pbs.twimg.com/profile_images/930884985845960704/4UuMeLD9_normal.jpg\", \"following\": null, \"geo_enabled\": false, \"profile_banner_url\": \"https://pbs.twimg.com/profile_banners/930882297192177664/1510775348\", \"profile_background_image_url\": \"\", \"name\": \"Lucy M Davies\", \"lang\": \"en\", \"profile_background_tile\": false, \"favourites_count\": 7, \"screen_name\": \"LucyMDavies1\", \"notifications\": null, \"url\": null, \"created_at\": \"Wed Nov 15 19:36:49 +0000 2017\", \"contributors_enabled\": false, \"time_zone\": null, \"protected\": false, \"translator_type\": \"none\", \"is_translator\": false}, \"filter_level\": \"low\", \"geo\": null, \"id\": 932988083351506944, \"favorite_count\": 0, \"lang\": \"en\", \"retweeted_status\": {\"quote_count\": 0, \"contributors\": null, \"truncated\": false, \"text\": \"Congratulations to our Teaching Fellow Judith Reynolds for winning the Richard Pemberton Prize for the best... https://t.co/SuaeCt5YPR\", \"is_quote_status\": false, \"in_reply_to_status_id\": null, \"reply_count\": 0, \"id\": 932987235858776066, \"favorite_count\": 0, \"source\": \"<a href=\\\\\"http://www.facebook.com/twitter\\\\\" rel=\\\\\"nofollow\\\\\">Facebook</a>\", \"retweeted\": false, \"coordinates\": null, \"entities\": {\"user_mentions\": [], \"symbols\": [], \"hashtags\": [], \"urls\": [{\"url\": \"https://t.co/SuaeCt5YPR\", \"indices\": [111, 134], \"expanded_url\": \"http://fb.me/80qsOhmXw\", \"display_url\": \"fb.me/80qsOhmXw\"}]}, \"in_reply_to_screen_name\": null, \"id_str\": \"932987235858776066\", \"retweet_count\": 1, \"in_reply_to_user_id\": null, \"favorited\": false, \"user\": {\"follow_request_sent\": null, \"profile_use_background_image\": false, \"default_profile_image\": false, \"id\": 2775476819, \"default_profile\": false, \"verified\": false, \"profile_image_url_https\": \"https://pbs.twimg.com/profile_images/671989439980285952/lWpS7iux_normal.jpg\", \"profile_sidebar_fill_color\": \"000000\", \"profile_text_color\": \"000000\", \"followers_count\": 1266, \"profile_sidebar_border_color\": \"000000\", \"id_str\": \"2775476819\", \"profile_background_color\": \"000000\", \"listed_count\": 24, \"profile_background_image_url_https\": \"https://abs.twimg.com/images/themes/theme1/bg.png\", \"utc_offset\": -28800, \"statuses_count\": 2595, \"description\": \"Durham University - School of Education\", \"friends_count\": 777, \"location\": \"Durham \", \"profile_link_color\": \"9266CC\", \"profile_image_url\": \"http://pbs.twimg.com/profile_images/671989439980285952/lWpS7iux_normal.jpg\", \"following\": null, \"geo_enabled\": true, \"profile_banner_url\": \"https://pbs.twimg.com/profile_banners/2775476819/1493287531\", \"profile_background_image_url\": \"http://abs.twimg.com/images/themes/theme1/bg.png\", \"name\": \"School of Education\", \"lang\": \"en-gb\", \"profile_background_tile\": false, \"favourites_count\": 140, \"screen_name\": \"DUSofE\", \"notifications\": null, \"url\": \"http://www.durham.ac.uk/education\", \"created_at\": \"Fri Sep 19 10:42:30 +0000 2014\", \"contributors_enabled\": false, \"time_zone\": \"Pacific Time (US & Canada)\", \"protected\": false, \"translator_type\": \"none\", \"is_translator\": false}, \"geo\": null, \"in_reply_to_user_id_str\": null, \"possibly_sensitive\": false, \"lang\": \"en\", \"created_at\": \"Tue Nov 21 15:01:05 +0000 2017\", \"filter_level\": \"low\", \"in_reply_to_status_id_str\": null, \"place\": null}, \"source\": \"<a href=\\\\\"http://twitter.com/download/iphone\\\\\" rel=\\\\\"nofollow\\\\\">Twitter for iPhone</a>\", \"in_reply_to_user_id_str\": null, \"retweeted\": false, \"coordinates\": null, \"timestamp_ms\": \"1511276667808\", \"entities\": {\"user_mentions\": [{\"id\": 2775476819, \"indices\": [3, 10], \"id_str\": \"2775476819\", \"screen_name\": \"DUSofE\", \"name\": \"School of Education\"}], \"symbols\": [], \"hashtags\": [], \"urls\": []}, \"in_reply_to_status_id_str\": null, \"in_reply_to_screen_name\": null, \"id_str\": \"932988083351506944\", \"place\": null, \"retweet_count\": 0, \"created_at\": \"Tue Nov 21 15:04:27 +0000 2017\", \"in_reply_to_user_id\": null}'"
      ]
     },
     "execution_count": 24,
     "metadata": {},
     "output_type": "execute_result"
    }
   ],
   "source": [
    "df['data'][0]"
   ]
  },
  {
   "cell_type": "code",
   "execution_count": 33,
   "metadata": {},
   "outputs": [
    {
     "ename": "NameError",
     "evalue": "name 'false' is not defined",
     "output_type": "error",
     "traceback": [
      "\u001b[0;31m---------------------------------------------------------------------------\u001b[0m",
      "\u001b[0;31mNameError\u001b[0m                                 Traceback (most recent call last)",
      "\u001b[0;32m<ipython-input-33-18d81c4b8788>\u001b[0m in \u001b[0;36m<module>\u001b[0;34m()\u001b[0m\n\u001b[1;32m      1\u001b[0m \u001b[0mfalse\u001b[0m \u001b[0;34m=\u001b[0m \u001b[0;36m0\u001b[0m\u001b[0;34m\u001b[0m\u001b[0m\n\u001b[1;32m      2\u001b[0m \u001b[0mtrue\u001b[0m \u001b[0;34m=\u001b[0m \u001b[0;32mTrue\u001b[0m\u001b[0;34m\u001b[0m\u001b[0m\n\u001b[0;32m----> 3\u001b[0;31m \u001b[0mdf\u001b[0m\u001b[0;34m[\u001b[0m\u001b[0;34m'data'\u001b[0m\u001b[0;34m]\u001b[0m\u001b[0;34m.\u001b[0m\u001b[0mapply\u001b[0m\u001b[0;34m(\u001b[0m\u001b[0meval\u001b[0m\u001b[0;34m)\u001b[0m\u001b[0;34m\u001b[0m\u001b[0m\n\u001b[0m",
      "\u001b[0;32m/Users/wnowak/anaconda/lib/python3.6/site-packages/pandas/core/series.py\u001b[0m in \u001b[0;36mapply\u001b[0;34m(self, func, convert_dtype, args, **kwds)\u001b[0m\n\u001b[1;32m   2353\u001b[0m             \u001b[0;32melse\u001b[0m\u001b[0;34m:\u001b[0m\u001b[0;34m\u001b[0m\u001b[0m\n\u001b[1;32m   2354\u001b[0m                 \u001b[0mvalues\u001b[0m \u001b[0;34m=\u001b[0m \u001b[0mself\u001b[0m\u001b[0;34m.\u001b[0m\u001b[0masobject\u001b[0m\u001b[0;34m\u001b[0m\u001b[0m\n\u001b[0;32m-> 2355\u001b[0;31m                 \u001b[0mmapped\u001b[0m \u001b[0;34m=\u001b[0m \u001b[0mlib\u001b[0m\u001b[0;34m.\u001b[0m\u001b[0mmap_infer\u001b[0m\u001b[0;34m(\u001b[0m\u001b[0mvalues\u001b[0m\u001b[0;34m,\u001b[0m \u001b[0mf\u001b[0m\u001b[0;34m,\u001b[0m \u001b[0mconvert\u001b[0m\u001b[0;34m=\u001b[0m\u001b[0mconvert_dtype\u001b[0m\u001b[0;34m)\u001b[0m\u001b[0;34m\u001b[0m\u001b[0m\n\u001b[0m\u001b[1;32m   2356\u001b[0m \u001b[0;34m\u001b[0m\u001b[0m\n\u001b[1;32m   2357\u001b[0m         \u001b[0;32mif\u001b[0m \u001b[0mlen\u001b[0m\u001b[0;34m(\u001b[0m\u001b[0mmapped\u001b[0m\u001b[0;34m)\u001b[0m \u001b[0;32mand\u001b[0m \u001b[0misinstance\u001b[0m\u001b[0;34m(\u001b[0m\u001b[0mmapped\u001b[0m\u001b[0;34m[\u001b[0m\u001b[0;36m0\u001b[0m\u001b[0;34m]\u001b[0m\u001b[0;34m,\u001b[0m \u001b[0mSeries\u001b[0m\u001b[0;34m)\u001b[0m\u001b[0;34m:\u001b[0m\u001b[0;34m\u001b[0m\u001b[0m\n",
      "\u001b[0;32mpandas/_libs/src/inference.pyx\u001b[0m in \u001b[0;36mpandas._libs.lib.map_infer (pandas/_libs/lib.c:66440)\u001b[0;34m()\u001b[0m\n",
      "\u001b[0;32m/Users/wnowak/anaconda/lib/python3.6/site-packages/pandas/core/series.py\u001b[0m in \u001b[0;36m<module>\u001b[0;34m()\u001b[0m\n",
      "\u001b[0;31mNameError\u001b[0m: name 'false' is not defined"
     ]
    }
   ],
   "source": [
    "pd.read_json()"
   ]
  },
  {
   "cell_type": "code",
   "execution_count": null,
   "metadata": {},
   "outputs": [],
   "source": []
  }
 ],
 "metadata": {
  "kernelspec": {
   "display_name": "Python 3",
   "language": "python",
   "name": "python3"
  },
  "language_info": {
   "codemirror_mode": {
    "name": "ipython",
    "version": 3
   },
   "file_extension": ".py",
   "mimetype": "text/x-python",
   "name": "python",
   "nbconvert_exporter": "python",
   "pygments_lexer": "ipython3",
   "version": "3.6.1"
  }
 },
 "nbformat": 4,
 "nbformat_minor": 2
}
